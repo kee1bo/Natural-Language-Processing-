{
 "cells": [
  {
   "cell_type": "code",
   "execution_count": 2,
   "id": "1e04b43d",
   "metadata": {},
   "outputs": [],
   "source": [
    "import numpy as np"
   ]
  },
  {
   "cell_type": "code",
   "execution_count": 9,
   "id": "ddd99de2",
   "metadata": {},
   "outputs": [],
   "source": [
    "w = [0.31,0.32,0.3,0.54,0.45]\n",
    "X = [2,3,1,2,4]\n",
    "bias = 0.21"
   ]
  },
  {
   "cell_type": "markdown",
   "id": "761103f3",
   "metadata": {},
   "source": [
    "# Conventions \n",
    "X = set of inputs, list,  generally n-dimensional array  <br>\n",
    "w = weights are the same dimension as X i.e., inputs<br>\n",
    "bias  <br>\n",
    "Using np.dot we can perform the same action as multiplying them, as I have done <br>\n",
    "the end result we need is <br>\n",
    "<b>y = w * X + bias<b>\n"
   ]
  },
  {
   "cell_type": "code",
   "execution_count": 4,
   "id": "e27290bf",
   "metadata": {},
   "outputs": [],
   "source": [
    "y = 0 \n",
    "for i in range(len(w)):\n",
    "    y += X[i] * w[i]\n",
    "    \n",
    "y = y+bias"
   ]
  },
  {
   "cell_type": "code",
   "execution_count": 15,
   "id": "7374aaea",
   "metadata": {},
   "outputs": [
    {
     "data": {
      "text/plain": [
       "4.97"
      ]
     },
     "execution_count": 15,
     "metadata": {},
     "output_type": "execute_result"
    }
   ],
   "source": [
    "y\n"
   ]
  },
  {
   "cell_type": "code",
   "execution_count": 34,
   "id": "5748087a",
   "metadata": {},
   "outputs": [],
   "source": [
    "import torch"
   ]
  },
  {
   "cell_type": "code",
   "execution_count": 57,
   "id": "99819e5b",
   "metadata": {},
   "outputs": [
    {
     "data": {
      "text/plain": [
       "tensor([3.5974])"
      ]
     },
     "execution_count": 57,
     "metadata": {},
     "output_type": "execute_result"
    }
   ],
   "source": [
    "w1 = torch.rand(5)\n",
    "w2 = torch.rand(5)\n",
    "X = torch.rand(5)\n",
    "\n",
    "y1 = torch.dot(X,w1)\n",
    "y2 = torch.dot(X,w2)\n",
    "bias = torch.rand(1)\n",
    "y = y1+y2 + bias\n",
    "y"
   ]
  },
  {
   "cell_type": "code",
   "execution_count": 58,
   "id": "cb5d8ee9",
   "metadata": {},
   "outputs": [],
   "source": [
    "ans = np.dot(w,X)"
   ]
  },
  {
   "cell_type": "code",
   "execution_count": 59,
   "id": "bc773338",
   "metadata": {},
   "outputs": [
    {
     "data": {
      "text/plain": [
       "tensor([2.3395])"
      ]
     },
     "execution_count": 59,
     "metadata": {},
     "output_type": "execute_result"
    }
   ],
   "source": [
    "ans+bias"
   ]
  },
  {
   "cell_type": "markdown",
   "id": "dc93da53",
   "metadata": {},
   "source": [
    "We can increase the size of the arrays and just go on doing the same thing, but as the sizes increase the dimension of the array also increases, that is when we are faced with a serious problem that is often referred to as time complexity, that is also the reason we use tensors, tensors are nothing but n-dimensional arrays but we call them tensors because they are calculated on tensorboards I suppose. "
   ]
  },
  {
   "cell_type": "markdown",
   "id": "1e630cd3",
   "metadata": {},
   "source": [
    "# THEORY\n",
    "- Introduction to Neural Machine Translation <br>\n",
    "- Seq2Seq Model <br>\n",
    "    - Introduced by google\n",
    "    - Maps variable-length sequences to fixed-length memory\n",
    "    - Inputs and outputs can have different lengths\n",
    "    - LSTMs and GRUs to avoid vanishing and exploding gradient problems\n",
    "    \n",
    "    Encoder ------->Hidden-------->Decoder"
   ]
  },
  {
   "cell_type": "code",
   "execution_count": null,
   "id": "53db2593",
   "metadata": {},
   "outputs": [],
   "source": []
  }
 ],
 "metadata": {
  "kernelspec": {
   "display_name": "Python 3 (ipykernel)",
   "language": "python",
   "name": "python3"
  },
  "language_info": {
   "codemirror_mode": {
    "name": "ipython",
    "version": 3
   },
   "file_extension": ".py",
   "mimetype": "text/x-python",
   "name": "python",
   "nbconvert_exporter": "python",
   "pygments_lexer": "ipython3",
   "version": "3.10.8"
  }
 },
 "nbformat": 4,
 "nbformat_minor": 5
}
