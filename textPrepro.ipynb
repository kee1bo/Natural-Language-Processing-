{
 "cells": [
  {
   "cell_type": "code",
   "execution_count": 43,
   "id": "ff581d47",
   "metadata": {},
   "outputs": [],
   "source": [
    "import nltk \n",
    "from nltk.tokenize import sent_tokenize, word_tokenize\n"
   ]
  },
  {
   "cell_type": "code",
   "execution_count": 44,
   "id": "53e7c111",
   "metadata": {},
   "outputs": [],
   "source": [
    "paragraph = \"\"\"It was the best of times, it was the worst of times,it was the age of wisdom,it was the age of foolishness,it was the epoch of belief,it was the epoch of incredulity, it was the season of Light,it was the season of Darkness, it was the spring of hope, it was the winter of despair.\"\"\""
   ]
  },
  {
   "cell_type": "markdown",
   "id": "947aebc4",
   "metadata": {},
   "source": [
    "# Text Pre-processing\n",
    "1. Basic\n",
    "    - lowercasing\n",
    "    - removing HTML tags\n",
    "    - remove urls\n",
    "    - remove punctuation\n",
    "    - chat word treatment\n",
    "    - spelling correction\n",
    "    - removing stop words\n",
    "    - Handling emojis\n",
    "    - Tokenization\n",
    "2. Advanced\n",
    "    - Parts of Speech Taggin\n",
    "    - \n",
    "    "
   ]
  },
  {
   "cell_type": "markdown",
   "id": "d36ad9e0",
   "metadata": {},
   "source": [
    "# lowercasing\n",
    "\n",
    "- convert all the words in the corpus to lowercases, \n",
    "- why?\n",
    "    - Due lower the redundancy of the same/existing words due to the first letter being in Upper Case\n",
    "- Example:\n",
    "        - Basically == basically ; same word, same meaning"
   ]
  },
  {
   "cell_type": "code",
   "execution_count": 45,
   "id": "4297f4fa",
   "metadata": {},
   "outputs": [
    {
     "data": {
      "text/plain": [
       "'it was the best of times, it was the worst of times,it was the age of wisdom,it was the age of foolishness,it was the epoch of belief,it was the epoch of incredulity, it was the season of light,it was the season of darkness, it was the spring of hope, it was the winter of despair.'"
      ]
     },
     "execution_count": 45,
     "metadata": {},
     "output_type": "execute_result"
    }
   ],
   "source": [
    "paragraph.lower()"
   ]
  },
  {
   "cell_type": "markdown",
   "id": "920ea122",
   "metadata": {},
   "source": [
    "# Removing HTML tags, \n",
    "- useful when you have scraped the data and you get the data along with the html tags.\n",
    "- It is unnecessary for us, to move forward with the procedure\n",
    "- use python regex to remove them,\n"
   ]
  },
  {
   "cell_type": "code",
   "execution_count": 46,
   "id": "84413ca9",
   "metadata": {},
   "outputs": [],
   "source": [
    "import re\n"
   ]
  },
  {
   "cell_type": "code",
   "execution_count": 47,
   "id": "dfda0591",
   "metadata": {},
   "outputs": [],
   "source": [
    "def removeHtmlTags(text):\n",
    "    pattern = re.compile('<.*?>')\n",
    "    return pattern.sub(r'',text)"
   ]
  },
  {
   "cell_type": "code",
   "execution_count": 48,
   "id": "9301aeef",
   "metadata": {},
   "outputs": [],
   "source": [
    "para = \"<h1>What the hail</h1>\""
   ]
  },
  {
   "cell_type": "code",
   "execution_count": 49,
   "id": "300a15e5",
   "metadata": {},
   "outputs": [
    {
     "data": {
      "text/plain": [
       "'What the hail'"
      ]
     },
     "execution_count": 49,
     "metadata": {},
     "output_type": "execute_result"
    }
   ],
   "source": [
    "removeHtmlTags(para)"
   ]
  },
  {
   "cell_type": "markdown",
   "id": "f976b62d",
   "metadata": {},
   "source": [
    "- It is generally easy to remove HTML tags because they have a simple pattern and are usually embedded/inside the two \"< >\" brackets."
   ]
  },
  {
   "cell_type": "markdown",
   "id": "d1e1ea50",
   "metadata": {},
   "source": [
    "# Removing Punctuation\n"
   ]
  },
  {
   "cell_type": "code",
   "execution_count": 50,
   "id": "7a39dcc8",
   "metadata": {},
   "outputs": [],
   "source": [
    "import string, time \n"
   ]
  },
  {
   "cell_type": "code",
   "execution_count": 51,
   "id": "f9f885c4",
   "metadata": {},
   "outputs": [],
   "source": [
    "exclude = string.punctuation"
   ]
  },
  {
   "cell_type": "code",
   "execution_count": 52,
   "id": "a86d0269",
   "metadata": {},
   "outputs": [],
   "source": [
    "para = 'What the hell?'"
   ]
  },
  {
   "cell_type": "code",
   "execution_count": 53,
   "id": "e09b33ad",
   "metadata": {},
   "outputs": [],
   "source": [
    "def removePunc(text):\n",
    "    for i in exclude:\n",
    "        text = text.replace(i,'')\n",
    "    return text"
   ]
  },
  {
   "cell_type": "code",
   "execution_count": 54,
   "id": "c9a78f18",
   "metadata": {},
   "outputs": [
    {
     "data": {
      "text/plain": [
       "'What the hell'"
      ]
     },
     "execution_count": 54,
     "metadata": {},
     "output_type": "execute_result"
    }
   ],
   "source": [
    "removePunc(para)\n",
    "#But too slow\n"
   ]
  },
  {
   "cell_type": "code",
   "execution_count": 55,
   "id": "7e4a0bfc",
   "metadata": {},
   "outputs": [],
   "source": [
    "def removePunc2(text):\n",
    "    return text.translate(str.maketrans('','',exclude))"
   ]
  },
  {
   "cell_type": "code",
   "execution_count": 56,
   "id": "d9c8b348",
   "metadata": {},
   "outputs": [
    {
     "data": {
      "text/plain": [
       "'What the hell'"
      ]
     },
     "execution_count": 56,
     "metadata": {},
     "output_type": "execute_result"
    }
   ],
   "source": [
    "removePunc2(para)\n",
    "#This is fast, use this instead"
   ]
  },
  {
   "cell_type": "markdown",
   "id": "a5f13f71",
   "metadata": {},
   "source": [
    "# Chat Word Treatement\n",
    "\n",
    "- We use short hands or shortforms for words, like rofl, lol, etc. \n",
    "- So it is really important that this words don't pose any major difference, threat to that.\n",
    "- So we replace those words, for example, gn = goodnight"
   ]
  },
  {
   "cell_type": "code",
   "execution_count": 57,
   "id": "209396b7",
   "metadata": {},
   "outputs": [
    {
     "ename": "SyntaxError",
     "evalue": "invalid decimal literal (2350409661.py, line 68)",
     "output_type": "error",
     "traceback": [
      "\u001b[0;36m  Cell \u001b[0;32mIn[57], line 68\u001b[0;36m\u001b[0m\n\u001b[0;31m    7K=Sick D Laugher]\u001b[0m\n\u001b[0m    ^\u001b[0m\n\u001b[0;31mSyntaxError\u001b[0m\u001b[0;31m:\u001b[0m invalid decimal literal\n"
     ]
    }
   ],
   "source": [
    "text = [AFAIK=As Far As I Know,\n",
    "AFK=Away From Keyboard,\n",
    "ASAP=As Soon As Possible,\n",
    "ATK=At The Keyboard,\n",
    "ATM=At The Moment,\n",
    "A3=Anytime Anywhere Anyplace,\n",
    "BAK=Back At Keyboard,\n",
    "BBL=Be Back Later,\n",
    "BBS=Be Back Soon,\n",
    "BFN=Bye For Now,\n",
    "B4N=Bye For Now,\n",
    "BRB=Be Right Back,\n",
    "BRT=Be Right There,\n",
    "BTW=By The Way,\n",
    "B4=Before,\n",
    "B4N=Bye For Now,\n",
    "CU=See You,\n",
    "CUL8R=See You Later,\n",
    "CYA=See You,\n",
    "FAQ=Frequently Asked Questions,\n",
    "FC=Fingers Crossed,\n",
    "FWIW=For What Its Worth,\n",
    "FYI=For Your Information,\n",
    "GAL=Get A Life,\n",
    "GG=Good Game,\n",
    "GN=Good Night,\n",
    "GMTA=Great Minds Think Alike,\n",
    "GR8=Great!,\n",
    "G9=Genius,\n",
    "IC=I See,\n",
    "ICQ=I Seek you (also a chat program),\n",
    "ILU=ILU: I Love You,\n",
    "IMHO=In My Honest/Humble Opinion,\n",
    "IMO=In My Opinion,\n",
    "IOW=In Other Words,\n",
    "IRL=In Real Life,\n",
    "KISS=Keep It Simple Stupid,\n",
    "LDR=Long Distance Relationship,\n",
    "LMAO=Laugh My Ass Off,\n",
    "LOL=Laughing Out Loud,\n",
    "LTNS=Long Time No See,\n",
    "L8R=Later,\n",
    "MTE=My Thoughts Exactly,\n",
    "M8=Mate,\n",
    "NRN=No Reply Necessary,\n",
    "OIC=Oh I See,\n",
    "PITA=Pain In The Ass,\n",
    "PRT=Party,\n",
    "PRW=Parents Are Watching,\n",
    "QPSA?\tQue Pasa?,\n",
    "ROFL=Rolling On The Floor Laughing,\n",
    "ROFLOL=Rolling On The Floor Laughing Out Loud,\n",
    "ROTFLMAO=Rolling On The Floor Laughing My Ass Off,\n",
    "SK8=Skate,\n",
    "STATS=Your sex and age,\n",
    "ASL=Age Sex Location,\n",
    "THX=Thank You,\n",
    "TTFN=Ta-Ta For Now!,\n",
    "TTYL=Talk To You Later,\n",
    "U=You,\n",
    "U2=You Too,\n",
    "U4E=Yours For Ever,\n",
    "WB=Welcome Back,\n",
    "WTF=What The Fuck,\n",
    "WTG=Way To Go!,\n",
    "WUF=Where Are You From?,\n",
    "W8=Wait,\n",
    "7K=Sick D Laugher]"
   ]
  },
  {
   "cell_type": "code",
   "execution_count": 58,
   "id": "8854641c",
   "metadata": {},
   "outputs": [],
   "source": [
    "for i in text:\n",
    "    text = text.replace(\"=\", \":\")"
   ]
  },
  {
   "cell_type": "code",
   "execution_count": 59,
   "id": "d09be27d",
   "metadata": {},
   "outputs": [
    {
     "data": {
      "text/plain": [
       "\"AFAIK:As Far As I Know\\nAFK:Away From Keyboard\\nASAP:As Soon As Possible\\nATK:At The Keyboard\\nATM:At The Moment\\nA3:Anytime, Anywhere, Anyplace\\nBAK:Back At Keyboard\\nBBL:Be Back Later\\nBBS:Be Back Soon\\nBFN:Bye For Now\\nB4N:Bye For Now\\nBRB:Be Right Back\\nBRT:Be Right There\\nBTW:By The Way\\nB4:Before\\nB4N:Bye For Now\\nCU:See You\\nCUL8R:See You Later\\nCYA:See You\\nFAQ:Frequently Asked Questions\\nFC:Fingers Crossed\\nFWIW:For What It's Worth\\nFYI:For Your Information\\nGAL:Get A Life\\nGG:Good Game\\nGN:Good Night\\nGMTA:Great Minds Think Alike\\nGR8:Great!\\nG9:Genius\\nIC:I See\\nICQ:I Seek you (also a chat program)\\nILU:ILU: I Love You\\nIMHO:In My Honest/Humble Opinion\\nIMO:In My Opinion\\nIOW:In Other Words\\nIRL:In Real Life\\nKISS:Keep It Simple, Stupid\\nLDR:Long Distance Relationship\\nLMAO:Laugh My A.. Off\\nLOL:Laughing Out Loud\\nLTNS:Long Time No See\\nL8R:Later\\nMTE:My Thoughts Exactly\\nM8:Mate\\nNRN:No Reply Necessary\\nOIC:Oh I See\\nPITA:Pain In The Ass\\nPRT:Party\\nPRW:Parents Are Watching\\nQPSA?\\tQue Pasa?\\nROFL:Rolling On The Floor Laughing\\nROFLOL:Rolling On The Floor Laughing Out Loud\\nROTFLMAO:Rolling On The Floor Laughing My A.. Off\\nSK8:Skate\\nSTATS:Your sex and age\\nASL:Age, Sex, Location\\nTHX:Thank You\\nTTFN:Ta-Ta For Now!\\nTTYL:Talk To You Later\\nU:You\\nU2:You Too\\nU4E:Yours For Ever\\nWB:Welcome Back\\nWTF:What The Fuchk\\nWTG:Way To Go!\\nWUF:Where Are You From?\\nW8:Wait\\n7K:Sick D Laugher\""
      ]
     },
     "execution_count": 59,
     "metadata": {},
     "output_type": "execute_result"
    }
   ],
   "source": [
    "text"
   ]
  },
  {
   "cell_type": "code",
   "execution_count": 60,
   "id": "2122e39c",
   "metadata": {},
   "outputs": [],
   "source": [
    "def chat_conversation(text):\n",
    "    new_text = []\n",
    "    for w in text.split():\n",
    "        if w.upper() in chat_words:\n",
    "            new_text.append(chat_words[w.upper()])\n",
    "        else:\n",
    "            new_text.append(w)\n",
    "            \n",
    "    return \" \".join(new_text)"
   ]
  },
  {
   "cell_type": "markdown",
   "id": "d8cf3cb6",
   "metadata": {},
   "source": [
    "# Correct Incorrect words"
   ]
  },
  {
   "cell_type": "code",
   "execution_count": 61,
   "id": "41b599cb",
   "metadata": {},
   "outputs": [],
   "source": [
    "from textblob import TextBlob\n",
    "# !pip install textblob"
   ]
  },
  {
   "cell_type": "code",
   "execution_count": 62,
   "id": "bbfb49a0",
   "metadata": {},
   "outputs": [
    {
     "data": {
      "text/plain": [
       "'Conditions to be meet '"
      ]
     },
     "execution_count": 62,
     "metadata": {},
     "output_type": "execute_result"
    }
   ],
   "source": [
    "incorrectText = \"Coonditions to be meeat \"\n",
    "txtblbMagic = TextBlob(incorrectText)\n",
    "txtblbMagic.correct().string\n",
    "# It is not a intelligent system, of course we want to make a system that emulates intelligence,\n",
    "# TextBlob just corrects the spellings of the words that area close to it.\n"
   ]
  },
  {
   "cell_type": "markdown",
   "id": "15da7157",
   "metadata": {},
   "source": [
    "# Removing Stopwords\n",
    "- These are words sure as, a, an ,the, and, etc\n",
    "- There are some words that add no value to the meaning of sentence, perhaps they are good for describing, but add no meaning, so we remove them "
   ]
  },
  {
   "cell_type": "code",
   "execution_count": null,
   "id": "521595d2",
   "metadata": {},
   "outputs": [],
   "source": [
    "n = int(input())\n",
    "for i in range(n):\n",
    "    print(end=\"\\n\")\n",
    "    for j in range(1,n-i):\n",
    "        print(j,end=\" \")\n",
    "        \n",
    "\n",
    "    \n",
    "        "
   ]
  },
  {
   "cell_type": "code",
   "execution_count": 68,
   "id": "ec9a78a8",
   "metadata": {},
   "outputs": [
    {
     "name": "stdout",
     "output_type": "stream",
     "text": [
      "0\n",
      "0\n",
      "0\n",
      "0\n",
      "0\n",
      "0\n",
      "1\n",
      "2\n",
      "3\n",
      "4\n",
      "0\n",
      "2\n",
      "4\n",
      "6\n",
      "8\n",
      "0\n",
      "3\n",
      "6\n",
      "9\n",
      "12\n",
      "0\n",
      "4\n",
      "8\n",
      "12\n",
      "16\n"
     ]
    }
   ],
   "source": [
    "for i in range(5):\n",
    "    for j in range(5):\n",
    "        print(i*j)"
   ]
  },
  {
   "cell_type": "code",
   "execution_count": null,
   "id": "68dbb379",
   "metadata": {},
   "outputs": [],
   "source": []
  }
 ],
 "metadata": {
  "kernelspec": {
   "display_name": "Python 3 (ipykernel)",
   "language": "python",
   "name": "python3"
  },
  "language_info": {
   "codemirror_mode": {
    "name": "ipython",
    "version": 3
   },
   "file_extension": ".py",
   "mimetype": "text/x-python",
   "name": "python",
   "nbconvert_exporter": "python",
   "pygments_lexer": "ipython3",
   "version": "3.10.8"
  }
 },
 "nbformat": 4,
 "nbformat_minor": 5
}
